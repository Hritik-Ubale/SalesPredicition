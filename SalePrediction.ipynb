{
  "nbformat": 4,
  "nbformat_minor": 0,
  "metadata": {
    "colab": {
      "name": "SalePrediction.ipynb",
      "provenance": [],
      "collapsed_sections": [],
      "authorship_tag": "ABX9TyPREhg5hyb8x6+D8eniVjpg",
      "include_colab_link": true
    },
    "kernelspec": {
      "name": "python3",
      "display_name": "Python 3"
    },
    "language_info": {
      "name": "python"
    }
  },
  "cells": [
    {
      "cell_type": "markdown",
      "metadata": {
        "id": "view-in-github",
        "colab_type": "text"
      },
      "source": [
        "<a href=\"https://colab.research.google.com/github/Hritik-Ubale/SalesPredicition/blob/main/SalePrediction.ipynb\" target=\"_parent\"><img src=\"https://colab.research.google.com/assets/colab-badge.svg\" alt=\"Open In Colab\"/></a>"
      ]
    },
    {
      "cell_type": "code",
      "metadata": {
        "colab": {
          "base_uri": "https://localhost:8080/"
        },
        "id": "AE0GG3-F_XsU",
        "outputId": "a2eadad2-2521-4180-e039-dfeea1c55e71"
      },
      "source": [
        "#Reading the dataset\n",
        "import pandas as pd\n",
        "df = pd.read_csv('DigitalAd.csv')\n",
        "print(df.shape)\n",
        "print(df.head)"
      ],
      "execution_count": 9,
      "outputs": [
        {
          "output_type": "stream",
          "name": "stdout",
          "text": [
            "(199, 3)\n",
            "<bound method NDFrame.head of      age  salary  result\n",
            "0     19  139750       0\n",
            "1     20  173200       1\n",
            "2      4   79750       0\n",
            "3     45  115000       1\n",
            "4     40  141500       0\n",
            "..   ...     ...     ...\n",
            "194   48   90000       1\n",
            "195    9  113600       1\n",
            "196    4   92700       1\n",
            "197    4   92000       0\n",
            "198   34  189409       0\n",
            "\n",
            "[199 rows x 3 columns]>\n"
          ]
        }
      ]
    },
    {
      "cell_type": "code",
      "metadata": {
        "colab": {
          "base_uri": "https://localhost:8080/"
        },
        "id": "3k8HfNp0hKtf",
        "outputId": "c3226758-7a02-4860-ca17-35a395aae005"
      },
      "source": [
        "#REMOVED entries less than age 18\n",
        "df = df[df['age'] > 18]\n",
        "df.head"
      ],
      "execution_count": 10,
      "outputs": [
        {
          "output_type": "execute_result",
          "data": {
            "text/plain": [
              "<bound method NDFrame.head of      age  salary  result\n",
              "0     19  139750       0\n",
              "1     20  173200       1\n",
              "3     45  115000       1\n",
              "4     40  141500       0\n",
              "6     30  175000       1\n",
              "..   ...     ...     ...\n",
              "191   43  133700       0\n",
              "192   19  122100       1\n",
              "193   19   86250       0\n",
              "194   48   90000       1\n",
              "198   34  189409       0\n",
              "\n",
              "[98 rows x 3 columns]>"
            ]
          },
          "metadata": {},
          "execution_count": 10
        }
      ]
    },
    {
      "cell_type": "code",
      "metadata": {
        "id": "kOtwGg65AYUG",
        "colab": {
          "base_uri": "https://localhost:8080/"
        },
        "outputId": "485f9d15-fb9e-4aed-8357-967a8a18874e"
      },
      "source": [
        "#Dividing data into input and output\n",
        "#SYNTAX => dataset.iloc[:,StartCol:EndCol]\n",
        "X = df.iloc[:,:-1].values\n",
        "X"
      ],
      "execution_count": 11,
      "outputs": [
        {
          "output_type": "execute_result",
          "data": {
            "text/plain": [
              "array([[    19, 139750],\n",
              "       [    20, 173200],\n",
              "       [    45, 115000],\n",
              "       [    40, 141500],\n",
              "       [    30, 175000],\n",
              "       [    45, 147765],\n",
              "       [    21, 119250],\n",
              "       [    20, 104800],\n",
              "       [    19, 101000],\n",
              "       [    38, 103450],\n",
              "       [    37, 124750],\n",
              "       [    39, 137000],\n",
              "       [    31,  89565],\n",
              "       [    36, 102580],\n",
              "       [    34,  93904],\n",
              "       [    24, 113068],\n",
              "       [    21, 106294],\n",
              "       [    35, 134885],\n",
              "       [    20, 132261],\n",
              "       [    22, 155750],\n",
              "       [    41, 125196],\n",
              "       [    23, 146500],\n",
              "       [    23,  93418],\n",
              "       [    40, 101299],\n",
              "       [    38, 231545],\n",
              "       [    19,  94384],\n",
              "       [    25, 114778],\n",
              "       [    40,  98193],\n",
              "       [    23, 151768],\n",
              "       [    25, 140096],\n",
              "       [    28, 126621],\n",
              "       [    23, 117704],\n",
              "       [    33, 109785],\n",
              "       [    22, 101000],\n",
              "       [    35,  99418],\n",
              "       [    28,  91412],\n",
              "       [    45, 146856],\n",
              "       [    29, 100131],\n",
              "       [    35,  92391],\n",
              "       [    28, 113398],\n",
              "       [    26, 193000],\n",
              "       [    43, 150743],\n",
              "       [    22, 144640],\n",
              "       [    37, 152708],\n",
              "       [    25, 172272],\n",
              "       [    38, 166024],\n",
              "       [    21, 123683],\n",
              "       [    30, 102235],\n",
              "       [    41, 106689],\n",
              "       [    42, 133217],\n",
              "       [    28, 126933],\n",
              "       [    20, 127512],\n",
              "       [    31, 113543],\n",
              "       [    40, 131205],\n",
              "       [    20, 112429],\n",
              "       [    19,  82100],\n",
              "       [    37, 104279],\n",
              "       [    21, 120806],\n",
              "       [    30, 148500],\n",
              "       [    39, 117515],\n",
              "       [    32, 124309],\n",
              "       [    24,  97262],\n",
              "       [    25,  62884],\n",
              "       [    24,  96614],\n",
              "       [    54,  78162],\n",
              "       [    28, 155500],\n",
              "       [    32, 113278],\n",
              "       [    56,  76840],\n",
              "       [    35, 168635],\n",
              "       [    20, 136000],\n",
              "       [    21, 152664],\n",
              "       [    19, 106608],\n",
              "       [    27, 112696],\n",
              "       [    28, 119015],\n",
              "       [    27, 156938],\n",
              "       [    36, 144651],\n",
              "       [    21, 111168],\n",
              "       [    21, 118971],\n",
              "       [    26, 176500],\n",
              "       [    22,  98510],\n",
              "       [    21, 105890],\n",
              "       [    25, 181257],\n",
              "       [    19, 151575],\n",
              "       [    37,  93164],\n",
              "       [    20, 134185],\n",
              "       [    28, 111751],\n",
              "       [    27, 147349],\n",
              "       [    26, 150000],\n",
              "       [    23, 101000],\n",
              "       [    33, 134000],\n",
              "       [    28, 106300],\n",
              "       [    25, 153750],\n",
              "       [    22, 180000],\n",
              "       [    43, 133700],\n",
              "       [    19, 122100],\n",
              "       [    19,  86250],\n",
              "       [    48,  90000],\n",
              "       [    34, 189409]])"
            ]
          },
          "metadata": {},
          "execution_count": 11
        }
      ]
    },
    {
      "cell_type": "code",
      "metadata": {
        "colab": {
          "base_uri": "https://localhost:8080/"
        },
        "id": "pa_j7NWajvyw",
        "outputId": "c9b81cd3-93b9-49f1-9e77-6d301d880bb8"
      },
      "source": [
        "#output data\n",
        "Y = df.iloc[:,-1].values\n",
        "Y"
      ],
      "execution_count": 12,
      "outputs": [
        {
          "output_type": "execute_result",
          "data": {
            "text/plain": [
              "array([0, 1, 1, 0, 1, 1, 1, 1, 0, 0, 1, 0, 0, 1, 0, 0, 0, 0, 0, 1, 1, 0,\n",
              "       0, 0, 1, 1, 0, 0, 0, 1, 1, 0, 1, 0, 1, 1, 1, 0, 1, 0, 1, 1, 0, 1,\n",
              "       0, 0, 1, 1, 0, 0, 0, 0, 1, 1, 0, 1, 1, 0, 1, 0, 0, 0, 1, 1, 0, 1,\n",
              "       1, 0, 0, 1, 1, 1, 0, 1, 1, 1, 0, 1, 0, 0, 0, 0, 0, 0, 0, 1, 1, 0,\n",
              "       1, 0, 1, 0, 0, 0, 1, 0, 1, 0])"
            ]
          },
          "metadata": {},
          "execution_count": 12
        }
      ]
    },
    {
      "cell_type": "code",
      "metadata": {
        "id": "MTmWSfrXkM4w"
      },
      "source": [
        "#Data Divided for training(75%) and testing(25%)\n",
        "from sklearn.model_selection import train_test_split\n",
        "X_train, X_test, y_train, y_test = train_test_split(X, Y, test_size = 0.25, random_state = 0)"
      ],
      "execution_count": 13,
      "outputs": []
    },
    {
      "cell_type": "code",
      "metadata": {
        "id": "yLeNrHDylXP0"
      },
      "source": [
        "# Feature Scaling - SO all methods contribute equally\n",
        "from sklearn.preprocessing import StandardScaler\n",
        "sc = StandardScaler()\n",
        "X_train = sc.fit_transform(X_train) #Extract more fetures\n",
        "X_test = sc.transform(X_test)  #Act new to model"
      ],
      "execution_count": 14,
      "outputs": []
    },
    {
      "cell_type": "code",
      "metadata": {
        "colab": {
          "base_uri": "https://localhost:8080/"
        },
        "id": "YflBGWYim3EF",
        "outputId": "dd444bcb-204b-483a-f57d-22406635ec1e"
      },
      "source": [
        "#Training Data\n",
        "from sklearn.linear_model import LogisticRegression\n",
        "model = LogisticRegression(random_state = 0)\n",
        "model.fit(X_train,y_train)"
      ],
      "execution_count": 15,
      "outputs": [
        {
          "output_type": "execute_result",
          "data": {
            "text/plain": [
              "LogisticRegression(C=1.0, class_weight=None, dual=False, fit_intercept=True,\n",
              "                   intercept_scaling=1, l1_ratio=None, max_iter=100,\n",
              "                   multi_class='auto', n_jobs=None, penalty='l2',\n",
              "                   random_state=0, solver='lbfgs', tol=0.0001, verbose=0,\n",
              "                   warm_start=False)"
            ]
          },
          "metadata": {},
          "execution_count": 15
        }
      ]
    },
    {
      "cell_type": "code",
      "metadata": {
        "colab": {
          "base_uri": "https://localhost:8080/"
        },
        "id": "RvRAhtQKnYo8",
        "outputId": "d40d725d-78a6-4460-b080-7662571bf9fe"
      },
      "source": [
        "#PREDICTING WHETHER CUSTOMER WILL BUY BASED ON AGE & SALARY\n",
        "age = int(input(\"ENTER AGE : \"))\n",
        "salary = int(input(\"ENTER SALARY : \"))\n",
        "newCustomer = [[age,salary]]\n",
        "result = model.predict(sc.transform(newCustomer))\n",
        "print(result)\n",
        "if result == 1:\n",
        "  print(\"CUSTOMER WILL BUY\")\n",
        "else:\n",
        "  print(\"CUSTOMER WILL NOT BUY\")\n"
      ],
      "execution_count": 16,
      "outputs": [
        {
          "output_type": "stream",
          "name": "stdout",
          "text": [
            "ENTER AGE : 20\n",
            "ENTER SALARY : 136000\n",
            "[0]\n",
            "CUSTOMER WILL NOT BUY\n"
          ]
        }
      ]
    },
    {
      "cell_type": "code",
      "metadata": {
        "colab": {
          "base_uri": "https://localhost:8080/"
        },
        "id": "kZ9gzh-7o1N2",
        "outputId": "5fb11570-0d55-4f07-b77e-54d3582905a0"
      },
      "source": [
        "#Confusion matrix \n",
        "import numpy as np\n",
        "y_pred = model.predict(X_test)\n",
        "print(np.concatenate((y_pred.reshape(len(y_pred),1),y_test.reshape(len(y_test),1)),1))"
      ],
      "execution_count": 17,
      "outputs": [
        {
          "output_type": "stream",
          "name": "stdout",
          "text": [
            "[[0 0]\n",
            " [0 1]\n",
            " [0 1]\n",
            " [0 1]\n",
            " [1 0]\n",
            " [0 0]\n",
            " [0 0]\n",
            " [1 0]\n",
            " [0 0]\n",
            " [0 1]\n",
            " [0 1]\n",
            " [0 1]\n",
            " [0 1]\n",
            " [0 1]\n",
            " [0 1]\n",
            " [0 1]\n",
            " [0 0]\n",
            " [1 1]\n",
            " [0 0]\n",
            " [0 0]\n",
            " [1 1]\n",
            " [0 1]\n",
            " [0 0]\n",
            " [0 1]\n",
            " [1 0]]\n"
          ]
        }
      ]
    },
    {
      "cell_type": "code",
      "metadata": {
        "colab": {
          "base_uri": "https://localhost:8080/"
        },
        "id": "mNzSJkmqqH6Z",
        "outputId": "afaabfeb-158e-4c62-e1d7-3ab74910cce1"
      },
      "source": [
        "#Evaluating model - Confusion Matrix\n",
        "from sklearn.metrics import confusion_matrix,accuracy_score\n",
        "cm = confusion_matrix(y_test, y_pred)\n",
        "print(\"CONFUSION MATRIX\")\n",
        "print(cm)\n",
        "\n",
        "print(\"ACCURACY OF THE MODEL: {0}%\".format(accuracy_score(y_test, y_pred)* 100))"
      ],
      "execution_count": 18,
      "outputs": [
        {
          "output_type": "stream",
          "name": "stdout",
          "text": [
            "CONFUSION MATRIX\n",
            "[[ 8  3]\n",
            " [12  2]]\n",
            "ACCURACY OF THE MODEL: 40.0%\n"
          ]
        }
      ]
    }
  ]
}